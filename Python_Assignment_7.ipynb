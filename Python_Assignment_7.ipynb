{
  "nbformat": 4,
  "nbformat_minor": 0,
  "metadata": {
    "colab": {
      "name": "Python_Assignment_7.ipynb",
      "provenance": [],
      "collapsed_sections": []
    },
    "kernelspec": {
      "name": "python3",
      "display_name": "Python 3"
    },
    "language_info": {
      "name": "python"
    }
  },
  "cells": [
    {
      "cell_type": "markdown",
      "source": [
        "#### Question 1. Reverse words in a given String in Python"
      ],
      "metadata": {
        "id": "n4F5bJyQn_pA"
      }
    },
    {
      "cell_type": "code",
      "execution_count": 5,
      "metadata": {
        "colab": {
          "base_uri": "https://localhost:8080/"
        },
        "id": "lSPTw7wKnz3N",
        "outputId": "58d28050-d5fb-4e86-d859-f8be9e055651"
      },
      "outputs": [
        {
          "output_type": "stream",
          "name": "stdout",
          "text": [
            "Enter a string : Hello World!\n",
            "olleH !dlroW\n"
          ]
        }
      ],
      "source": [
        "my_string = input('Enter a string : ')\n",
        "\n",
        "list_words = my_string.strip().split(' ')\n",
        "print(' '.join([word[::-1] for word in list_words]))"
      ]
    },
    {
      "cell_type": "markdown",
      "source": [
        "#### Question 2. Ways to remove i’th character from string in Python"
      ],
      "metadata": {
        "id": "tqFSRIrIpTRc"
      }
    },
    {
      "cell_type": "code",
      "source": [
        "my_string = input('Enter a string : ')\n",
        "i = int(input('Enter ith character'))\n",
        "\n",
        "new_str = my_string[:i]+my_string[i+1:]\n",
        "print(new_str)"
      ],
      "metadata": {
        "colab": {
          "base_uri": "https://localhost:8080/"
        },
        "id": "R-vMBy65oa0y",
        "outputId": "65adf0c2-b52a-48a7-b027-498006eacf0a"
      },
      "execution_count": 9,
      "outputs": [
        {
          "output_type": "stream",
          "name": "stdout",
          "text": [
            "Enter a string : Helloo World!\n",
            "Enter ith character5\n",
            "Hello World!\n"
          ]
        }
      ]
    },
    {
      "cell_type": "markdown",
      "source": [
        "#### Question 3. Python | Check if a Substring is Present in a Given String"
      ],
      "metadata": {
        "id": "v4d2om8VqVIV"
      }
    },
    {
      "cell_type": "code",
      "source": [
        "a = 'Ginger lemon tea'\n",
        "b = 'lemon'\n",
        "\n",
        "print('Yes' if b in a else 'No')"
      ],
      "metadata": {
        "colab": {
          "base_uri": "https://localhost:8080/"
        },
        "id": "YSEJHcXrphNL",
        "outputId": "43a178ba-9639-4931-d66b-46c80a22ede0"
      },
      "execution_count": 10,
      "outputs": [
        {
          "output_type": "stream",
          "name": "stdout",
          "text": [
            "Yes\n"
          ]
        }
      ]
    },
    {
      "cell_type": "markdown",
      "source": [
        "#### Question 4. Python – Words Frequency in String Shorthands"
      ],
      "metadata": {
        "id": "BpU40RVIqsbn"
      }
    },
    {
      "cell_type": "code",
      "source": [
        "my_string = 'Twinkle Twinkle Little Star'\n",
        "\n",
        "print({key: my_string.count(key) for key in my_string.split()})"
      ],
      "metadata": {
        "colab": {
          "base_uri": "https://localhost:8080/"
        },
        "id": "yXR7Gyo3qqlV",
        "outputId": "8d2fabc5-a203-4fee-fc5b-ccaef95dbb23"
      },
      "execution_count": 13,
      "outputs": [
        {
          "output_type": "stream",
          "name": "stdout",
          "text": [
            "{'Twinkle': 2, 'Little': 1, 'Star': 1}\n"
          ]
        }
      ]
    },
    {
      "cell_type": "markdown",
      "source": [
        "#### Question 5. Python – Convert Snake case to Pascal case"
      ],
      "metadata": {
        "id": "1TEJB0YZr0vy"
      }
    },
    {
      "cell_type": "code",
      "source": [
        "my_string = 'Have_a_wonderful_day'\n",
        "\n",
        "myString = my_string.replace('_',\" \").title().replace(' ',\"\")\n",
        "\n",
        "print(myString)"
      ],
      "metadata": {
        "colab": {
          "base_uri": "https://localhost:8080/"
        },
        "id": "97jU1A0wrkje",
        "outputId": "85269e82-e594-4cca-88a2-c73e451ae0b2"
      },
      "execution_count": 14,
      "outputs": [
        {
          "output_type": "stream",
          "name": "stdout",
          "text": [
            "HaveAWonderfulDay\n"
          ]
        }
      ]
    },
    {
      "cell_type": "markdown",
      "source": [
        "#### Question 6. Find length of a string in python (4 ways)"
      ],
      "metadata": {
        "id": "QIkFOS6Fs21k"
      }
    },
    {
      "cell_type": "code",
      "source": [
        "my_string = 'Hum Honge Kaamyab Ek Din'\n",
        "\n",
        "# Method 1: using len function\n",
        "print(len(my_string))\n",
        "\n",
        "# Method 2: using for loop and counter\n",
        "count = 0\n",
        "for i in my_string:\n",
        "  count+=1\n",
        "print(count)\n",
        "\n",
        "# Method 3: using while loop \n",
        "counter=0\n",
        "while my_string[counter:]:\n",
        "  counter+=1\n",
        "print(counter)\n",
        "\n",
        "# Method using join and count\n",
        "s = 'xyz'\n",
        "k = ((s.join(my_string))).count(s)+1\n",
        "print(k)"
      ],
      "metadata": {
        "colab": {
          "base_uri": "https://localhost:8080/"
        },
        "id": "Eo0E-D12szK-",
        "outputId": "7abb0624-e351-4a1b-e579-4fc05ac4e1ff"
      },
      "execution_count": 20,
      "outputs": [
        {
          "output_type": "stream",
          "name": "stdout",
          "text": [
            "24\n",
            "24\n",
            "24\n",
            "24\n"
          ]
        }
      ]
    },
    {
      "cell_type": "markdown",
      "source": [
        "#### Question 7. Python program to print even length words in a string"
      ],
      "metadata": {
        "id": "QvPBJFoMwAaI"
      }
    },
    {
      "cell_type": "code",
      "source": [
        "my_string = input('Enter a string : ')\n",
        "\n",
        "even_words =[word for word in my_string.strip().split(' ') if len(word)%2 == 0]\n",
        "print('Even Letter Words: {}'.format(' '.join(even_words)))"
      ],
      "metadata": {
        "colab": {
          "base_uri": "https://localhost:8080/"
        },
        "id": "vfQqa0O9tgfE",
        "outputId": "19b3e7a6-c9c5-40c1-b961-41d536868755"
      },
      "execution_count": 26,
      "outputs": [
        {
          "output_type": "stream",
          "name": "stdout",
          "text": [
            "Enter a string : apple banana mango orange\n",
            "Even Letter Words: banana orange\n"
          ]
        }
      ]
    },
    {
      "cell_type": "markdown",
      "source": [
        "#### Question 8. Python program to accept the strings which contains all vowels"
      ],
      "metadata": {
        "id": "TgDPT5xPx1O_"
      }
    },
    {
      "cell_type": "code",
      "source": [
        "my_string = input('Enter a string : ')\n",
        "\n",
        "flag = 1\n",
        "for v in 'aeiou':\n",
        "  if v not in my_string:\n",
        "    flag = 0\n",
        "    break\n",
        "\n",
        "if flag == 1:\n",
        "  print('String Accepted')\n",
        "else:\n",
        "  print('String Rejected')\n"
      ],
      "metadata": {
        "colab": {
          "base_uri": "https://localhost:8080/"
        },
        "id": "ueOeJZmnwPw9",
        "outputId": "76c5f7c5-6316-4a44-81a3-bfbb9ffed32c"
      },
      "execution_count": 27,
      "outputs": [
        {
          "output_type": "stream",
          "name": "stdout",
          "text": [
            "Enter a string : kfmpwnalonifevu\n",
            "String Accepted\n"
          ]
        }
      ]
    },
    {
      "cell_type": "markdown",
      "source": [
        "#### Question 9. Python | Count the Number of matching characters in a pair of string"
      ],
      "metadata": {
        "id": "YtdGEvqyzKMS"
      }
    },
    {
      "cell_type": "code",
      "source": [
        "string1 = input('Enter String 1: ')\n",
        "string2 = input('Enter String 2: ')\n",
        "\n",
        "print('Number of matching characters {}'.format(str(len(set(string1) & set(string2)))))"
      ],
      "metadata": {
        "colab": {
          "base_uri": "https://localhost:8080/"
        },
        "id": "tu8HA6Kvy-t5",
        "outputId": "08732f02-b823-45e2-9dfe-68bc8b301f5e"
      },
      "execution_count": 31,
      "outputs": [
        {
          "output_type": "stream",
          "name": "stdout",
          "text": [
            "Enter String 1: rtyhgf67[]\n",
            "Enter String 2: yhjuik98[0\n",
            "Number of matching characters 3\n"
          ]
        }
      ]
    },
    {
      "cell_type": "markdown",
      "source": [
        "#### Question 10. Remove all duplicates from a given string in Python"
      ],
      "metadata": {
        "id": "t3fZPLno1KKK"
      }
    },
    {
      "cell_type": "code",
      "source": [
        "my_string = input('Enter a string: ')\n",
        "\n",
        "t=''\n",
        "for i in my_string:\n",
        "  if i in t:\n",
        "    pass\n",
        "  else:\n",
        "    t=t+i\n",
        "\n",
        "print('String after removing duplicates : {}'.format(t)) "
      ],
      "metadata": {
        "colab": {
          "base_uri": "https://localhost:8080/"
        },
        "id": "HeCeLKXUy3UA",
        "outputId": "96db60c4-a14b-4d84-8648-c3b90f1f531c"
      },
      "execution_count": 32,
      "outputs": [
        {
          "output_type": "stream",
          "name": "stdout",
          "text": [
            "Enter a string: Hello  World!!\n",
            "String after removing duplicates : Helo Wrd!\n"
          ]
        }
      ]
    }
  ]
}