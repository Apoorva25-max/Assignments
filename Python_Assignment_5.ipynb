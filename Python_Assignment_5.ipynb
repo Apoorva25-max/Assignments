{
  "nbformat": 4,
  "nbformat_minor": 0,
  "metadata": {
    "colab": {
      "name": "Python_Assignment_5.ipynb",
      "provenance": [],
      "collapsed_sections": []
    },
    "kernelspec": {
      "name": "python3",
      "display_name": "Python 3"
    },
    "language_info": {
      "name": "python"
    }
  },
  "cells": [
    {
      "cell_type": "markdown",
      "source": [
        "#### Question 1.\tPython program to print all negative numbers in a range"
      ],
      "metadata": {
        "id": "68NfgJKriN1j"
      }
    },
    {
      "cell_type": "code",
      "execution_count": null,
      "metadata": {
        "colab": {
          "base_uri": "https://localhost:8080/"
        },
        "id": "LBWtOvwiiEpV",
        "outputId": "be86fa68-88a8-4faa-92c3-5feea45e87ca"
      },
      "outputs": [
        {
          "output_type": "stream",
          "name": "stdout",
          "text": [
            "Enter range values : -5 5\n",
            "Negative Numbers : -5 -4 -3 -2 -1\n"
          ]
        }
      ],
      "source": [
        "r1, r2 = map(int, input('Enter range values : ').strip().split(' '))\n",
        "\n",
        "print('Negative Numbers : {}'.format(' '.join([str(x) for x in range(r1, r2+1) if x < 0])))"
      ]
    },
    {
      "cell_type": "markdown",
      "source": [
        "#### Question 2.\tRemove multiple elements from a list in Python"
      ],
      "metadata": {
        "id": "2M73MmwqkE-H"
      }
    },
    {
      "cell_type": "code",
      "source": [
        "lst = list(map(int, input('Enter elements in list : ').strip().split(' ')))\n",
        "r = list(map(int, input('Enter elements to be removed : ').strip().split(' ')))\n",
        "\n",
        "for i in r:\n",
        "  lst.remove(i)\n",
        "\n",
        "print('List Updated : {}'.format(lst))"
      ],
      "metadata": {
        "colab": {
          "base_uri": "https://localhost:8080/"
        },
        "id": "luAuiByRiuIy",
        "outputId": "a744a781-a3a7-4509-d5c3-c396b8a817bc"
      },
      "execution_count": null,
      "outputs": [
        {
          "output_type": "stream",
          "name": "stdout",
          "text": [
            "Enter elements in list :  1 2 3 4 5 6 7 8\n",
            "Enter elements to be removed : 3 5 7\n",
            "List Updated : [1, 2, 4, 6, 8]\n"
          ]
        }
      ]
    },
    {
      "cell_type": "markdown",
      "source": [
        "#### Question 3.\twrite a Python program to Remove empty List from List"
      ],
      "metadata": {
        "id": "sPaBBLTelZk_"
      }
    },
    {
      "cell_type": "code",
      "source": [
        "lst = [4, 7, [], 2, 4, [4, 6], 5]\n",
        "\n",
        "for i in lst:\n",
        "  if isinstance(i, list) and len(i) == 0:\n",
        "    lst.remove(i)\n",
        "\n",
        "print('List Updated : {}'.format(lst))"
      ],
      "metadata": {
        "colab": {
          "base_uri": "https://localhost:8080/"
        },
        "id": "VsQS-vaslF-k",
        "outputId": "184d9bbc-0c54-4cda-9b05-5b79ceabb122"
      },
      "execution_count": null,
      "outputs": [
        {
          "output_type": "stream",
          "name": "stdout",
          "text": [
            "List Updated : [4, 7, 2, 4, [4, 6], 5]\n"
          ]
        }
      ]
    },
    {
      "cell_type": "markdown",
      "source": [
        "#### Question 4.\twrite a Python program to Cloning or Copying a list"
      ],
      "metadata": {
        "id": "1w2O6uZ9nAIj"
      }
    },
    {
      "cell_type": "code",
      "source": [
        "lst = list(map(int, input('Enter elements in list : ').strip().split(' ')))\n",
        "\n",
        "copy_lst = lst\n",
        "print('List cloned : {}'.format(copy_lst))"
      ],
      "metadata": {
        "colab": {
          "base_uri": "https://localhost:8080/"
        },
        "id": "UAI_Y6-8m9xd",
        "outputId": "321d8376-773a-4a32-aa9b-286c7bd1d9dc"
      },
      "execution_count": null,
      "outputs": [
        {
          "output_type": "stream",
          "name": "stdout",
          "text": [
            "Enter elements in list : 4 5 7 8 2\n",
            "List cloned : [4, 5, 7, 8, 2]\n"
          ]
        }
      ]
    },
    {
      "cell_type": "markdown",
      "source": [
        "#### Question 5.\twrite a Python program to Count occurrences of an element in a list"
      ],
      "metadata": {
        "id": "n3wDnTgHni3c"
      }
    },
    {
      "cell_type": "code",
      "source": [
        "lst = list(map(int, input('Enter elements in list : ').strip().split(' ')))\n",
        "n = int(input('Enter an element : '))\n",
        "\n",
        "counter =0\n",
        "for i in lst:\n",
        "  if n == i:\n",
        "    counter += 1\n",
        "\n",
        "print('Occurences : {}'.format(counter))"
      ],
      "metadata": {
        "colab": {
          "base_uri": "https://localhost:8080/"
        },
        "id": "o8Gw7HRLnfFz",
        "outputId": "817a4820-1f68-4962-e410-764aca49683d"
      },
      "execution_count": null,
      "outputs": [
        {
          "output_type": "stream",
          "name": "stdout",
          "text": [
            "Enter elements in list : 3 5 7 3 6 8 3 5 8\n",
            "Enter an element : 3\n",
            "Occurences : 3\n"
          ]
        }
      ]
    },
    {
      "cell_type": "markdown",
      "source": [
        "#### Question 6.\twrite a Python program to Remove empty tuples from a list"
      ],
      "metadata": {
        "id": "qFdoesNfu-MG"
      }
    },
    {
      "cell_type": "code",
      "source": [
        "lst = [4, 6 , (), 65, [5], (6, 7), 42]\n",
        "\n",
        "for i in lst:\n",
        "  if isinstance(i , tuple) and len(i) == 0:\n",
        "    lst.remove(i)\n",
        "\n",
        "print('Upated list : {}'.format(lst))"
      ],
      "metadata": {
        "colab": {
          "base_uri": "https://localhost:8080/"
        },
        "id": "lnxoGZSSu6Fh",
        "outputId": "e96ca084-61ea-47ff-d604-db17d25cec2d"
      },
      "execution_count": null,
      "outputs": [
        {
          "output_type": "stream",
          "name": "stdout",
          "text": [
            "Upated list : [4, 6, 65, [5], (6, 7), 42]\n"
          ]
        }
      ]
    },
    {
      "cell_type": "markdown",
      "source": [
        "#### Question 7.\twrite a Python program to Program to print duplicates from a list of integers"
      ],
      "metadata": {
        "id": "B5zKbuSOvpat"
      }
    },
    {
      "cell_type": "code",
      "source": [
        "lst = list(map(int, input('Enter elements in list : ').strip().split(' ')))\n",
        "\n",
        "dups = []  # list to store duplicated integers\n",
        "\n",
        "def isDuplicate(n, a_list):\n",
        "  counter=0\n",
        "  for i in a_list:\n",
        "    if n == i:\n",
        "      counter+=1\n",
        "  if counter>1:\n",
        "    return 1  # 1 indicates there are duplicates present in the list\n",
        "  else:\n",
        "    return 0\n",
        "\n",
        "for i in lst:\n",
        "  if i not in dups:\n",
        "    if isDuplicate(i,lst):\n",
        "      dups.append(i)\n",
        "\n",
        "print('Duplicate integers : {}'.format(dups))"
      ],
      "metadata": {
        "colab": {
          "base_uri": "https://localhost:8080/"
        },
        "id": "EU6lS9Rxvac4",
        "outputId": "b430204f-c372-4797-f776-020335529711"
      },
      "execution_count": null,
      "outputs": [
        {
          "output_type": "stream",
          "name": "stdout",
          "text": [
            "Enter elements in list : 3 4 5 3 4 2 7 8 9 1\n",
            "Duplicate integers : [3, 4]\n"
          ]
        }
      ]
    },
    {
      "cell_type": "markdown",
      "source": [
        "#### Question 8.\twrite a Python program to find Cumulative sum of a list"
      ],
      "metadata": {
        "id": "MB0ggHrRxXe4"
      }
    },
    {
      "cell_type": "code",
      "source": [
        "lst = list(map(int, input('Enter elements in list : ').strip().split(' ')))\n",
        "\n",
        "cum_sum = []\n",
        "\n",
        "for i in range(1,len(lst)+1):\n",
        "  cum_sum.append(sum(lst[:i]))\n",
        "\n",
        "print('Cumulative Sum : {}'.format(cum_sum))"
      ],
      "metadata": {
        "colab": {
          "base_uri": "https://localhost:8080/"
        },
        "id": "ehE3Q5sqxSMX",
        "outputId": "ad312633-02d1-4e5e-8d4d-86cfbab5e375"
      },
      "execution_count": null,
      "outputs": [
        {
          "output_type": "stream",
          "name": "stdout",
          "text": [
            "Enter elements in list : 1 2 3 4 5 6\n",
            "Cumulative Sum : [1, 3, 6, 10, 15, 21]\n"
          ]
        }
      ]
    },
    {
      "cell_type": "markdown",
      "source": [
        "#### Question 9.\twrite a Python program to Sum of number digits in List"
      ],
      "metadata": {
        "id": "wX-_0XRezwCY"
      }
    },
    {
      "cell_type": "code",
      "source": [
        "lst = list(map(int, input('Enter elements in list : ').strip().split(' ')))\n",
        "\n",
        "print('Sum of number digits : ', end='')\n",
        "for i in lst:\n",
        "  x=sum([int(d) for d in str(i)])\n",
        "  print(x, end=' ')"
      ],
      "metadata": {
        "colab": {
          "base_uri": "https://localhost:8080/"
        },
        "id": "rUSJWC5QyJvc",
        "outputId": "a3e2bbb0-3a38-4233-c9f8-81f8613cffa7"
      },
      "execution_count": 3,
      "outputs": [
        {
          "output_type": "stream",
          "name": "stdout",
          "text": [
            "Enter elements in list : 43 67 887 12 09 48\n",
            "Sum of number digits : 7 13 23 3 9 12 "
          ]
        }
      ]
    },
    {
      "cell_type": "markdown",
      "source": [
        "#### Question 10.\twrite a Python program to Break a list into chunks of size N "
      ],
      "metadata": {
        "id": "AxzlYvPi8s8w"
      }
    },
    {
      "cell_type": "code",
      "source": [
        "lst = list(map(int, input('Enter elements in list : ').strip().split(' ')))\n",
        "n = int(input('Enter size N: '))\n",
        "\n",
        "x = [lst[i:i+n] for i in range(0,len(lst),n)]\n",
        "print(x)"
      ],
      "metadata": {
        "colab": {
          "base_uri": "https://localhost:8080/"
        },
        "id": "K3Ihp2eJy-Uk",
        "outputId": "9b62b32a-e09b-409d-b1a1-2436a9a04935"
      },
      "execution_count": 4,
      "outputs": [
        {
          "output_type": "stream",
          "name": "stdout",
          "text": [
            "Enter elements in list : 5 8 9 2 4 5 7 8 5\n",
            "Enter size N: 3\n",
            "[[5, 8, 9], [2, 4, 5], [7, 8, 5]]\n"
          ]
        }
      ]
    },
    {
      "cell_type": "markdown",
      "source": [
        "#### Question 11.\twrite a Python program to Sort the values of first list using second list"
      ],
      "metadata": {
        "id": "UyNrxUFG-r0S"
      }
    },
    {
      "cell_type": "code",
      "source": [
        "list1 = ['d', 'h', 'f', 'r', 'l', 'h']\n",
        "list2 = [2,4,1,3,5,6]\n",
        "\n",
        "def sort_list(list1, list2):\n",
        "\n",
        "  zipped_pairs = zip(list2, list1)\n",
        "  z = [x for _, x in sorted(zipped_pairs)]\n",
        "  return z\n",
        "\n",
        "print(sort_list(list1, list2))"
      ],
      "metadata": {
        "id": "CFgA7_HZzHkb",
        "colab": {
          "base_uri": "https://localhost:8080/"
        },
        "outputId": "160380c2-4065-4830-82de-4902b4ae135a"
      },
      "execution_count": 5,
      "outputs": [
        {
          "output_type": "stream",
          "name": "stdout",
          "text": [
            "['f', 'd', 'r', 'h', 'l', 'h']\n"
          ]
        }
      ]
    }
  ]
}