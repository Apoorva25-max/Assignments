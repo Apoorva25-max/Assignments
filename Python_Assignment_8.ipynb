{
  "nbformat": 4,
  "nbformat_minor": 0,
  "metadata": {
    "colab": {
      "name": "Python_Assignment_8.ipynb",
      "provenance": [],
      "collapsed_sections": []
    },
    "kernelspec": {
      "name": "python3",
      "display_name": "Python 3"
    },
    "language_info": {
      "name": "python"
    }
  },
  "cells": [
    {
      "cell_type": "markdown",
      "source": [
        "#### Question 1.\tPython – Least Frequent Character in String"
      ],
      "metadata": {
        "id": "BcpQjVYmBjnu"
      }
    },
    {
      "cell_type": "code",
      "execution_count": null,
      "metadata": {
        "colab": {
          "base_uri": "https://localhost:8080/"
        },
        "id": "xociKVKhBLSV",
        "outputId": "f1d20dd9-3170-4ed0-ad07-6e05cdb3b6e5"
      },
      "outputs": [
        {
          "output_type": "stream",
          "name": "stdout",
          "text": [
            "i\n"
          ]
        }
      ],
      "source": [
        "from collections import Counter\n",
        "my_string = 'World is Wonderful!!'\n",
        "\n",
        "char_count = Counter(my_string)\n",
        "print(min(char_count, key=char_count.get))"
      ]
    },
    {
      "cell_type": "markdown",
      "source": [
        "#### Question 2. Python | Maximum frequency character in String"
      ],
      "metadata": {
        "id": "vcc4ChPjFWU9"
      }
    },
    {
      "cell_type": "code",
      "source": [
        "from collections import Counter\n",
        "my_string = 'World is Wonderful!!!'\n",
        "\n",
        "char_count = Counter(my_string)\n",
        "print(max(char_count, key=char_count.get))"
      ],
      "metadata": {
        "colab": {
          "base_uri": "https://localhost:8080/"
        },
        "id": "9GkjrxUzFVvs",
        "outputId": "de9fe698-b1fd-4727-9470-35da59b3e167"
      },
      "execution_count": null,
      "outputs": [
        {
          "output_type": "stream",
          "name": "stdout",
          "text": [
            "!\n"
          ]
        }
      ]
    },
    {
      "cell_type": "markdown",
      "source": [
        "#### Question 3.\tPython | Program to check if a string contains any special character"
      ],
      "metadata": {
        "id": "Wp0ynIvfFiID"
      }
    },
    {
      "cell_type": "code",
      "source": [
        "import re\n",
        "\n",
        "regex = re.compile('[@_!#$%^&*()<>?/\\|}{~:]')\n",
        "\n",
        "my_string = '@wesome'\n",
        "\n",
        "if (regex.search(my_string)):\n",
        "  print('Present')\n",
        "else:\n",
        "  print('Absent')"
      ],
      "metadata": {
        "colab": {
          "base_uri": "https://localhost:8080/"
        },
        "id": "9VefA6LAECGr",
        "outputId": "0213da25-7d75-4ee1-c86e-03ee262cabec"
      },
      "execution_count": null,
      "outputs": [
        {
          "output_type": "stream",
          "name": "stdout",
          "text": [
            "Present\n"
          ]
        }
      ]
    },
    {
      "cell_type": "markdown",
      "source": [
        "#### Question 4.\tGenerating random strings until a given string is generated"
      ],
      "metadata": {
        "id": "1js4qR63HmGO"
      }
    },
    {
      "cell_type": "code",
      "source": [
        "import string\n",
        "import random\n",
        "import time\n",
        "\n",
        "possible_characters = string.ascii_lowercase + string.ascii_uppercase\n",
        "\n",
        "my_string = 'TOY'\n",
        "\n",
        "attemptThis = ''.join(random.choice(possible_characters) for i in range(len(my_string)))\n",
        "attemptNext = ''\n",
        "  \n",
        "completed = False\n",
        "iteration = 0\n",
        "\n",
        "while completed == False:\n",
        "  print(attemptThis)\n",
        "  attemptNext=''\n",
        "  completed = True\n",
        "\n",
        "  for i in range(len(my_string)):\n",
        "    if attemptThis[i] != my_string[i]:\n",
        "      completed = False\n",
        "      attemptNext += random.choice(possible_characters)\n",
        "    else:\n",
        "      attemptNext += my_string[i]\n",
        "\n",
        "  iteration += 1\n",
        "  attemptThis = attemptNext\n",
        "  time.sleep(0.1)\n",
        "\n",
        "print(\"Target matched after \" + str(iteration) + \" iterations\")"
      ],
      "metadata": {
        "colab": {
          "base_uri": "https://localhost:8080/"
        },
        "id": "n42UGo1RHXoc",
        "outputId": "ce221de6-d9a9-4909-cc43-9d78653f6ee7"
      },
      "execution_count": 2,
      "outputs": [
        {
          "output_type": "stream",
          "name": "stdout",
          "text": [
            "FpJ\n",
            "tMx\n",
            "nHA\n",
            "hAQ\n",
            "zCQ\n",
            "VBo\n",
            "eZH\n",
            "pnS\n",
            "ahk\n",
            "TrZ\n",
            "Tzu\n",
            "TMZ\n",
            "TRc\n",
            "TyR\n",
            "TfW\n",
            "TPC\n",
            "Tgj\n",
            "TND\n",
            "TvT\n",
            "TlU\n",
            "Tsd\n",
            "TyC\n",
            "TzQ\n",
            "TfN\n",
            "TLe\n",
            "TbR\n",
            "Tib\n",
            "TuX\n",
            "ToQ\n",
            "TfQ\n",
            "TgP\n",
            "TXM\n",
            "TJK\n",
            "TGp\n",
            "TGd\n",
            "TNL\n",
            "TIv\n",
            "TAK\n",
            "TTq\n",
            "TWf\n",
            "TAl\n",
            "TOa\n",
            "TOS\n",
            "TOJ\n",
            "TOR\n",
            "TOH\n",
            "TOp\n",
            "TOR\n",
            "TOU\n",
            "TOm\n",
            "TOb\n",
            "TOg\n",
            "TOM\n",
            "TOP\n",
            "TOx\n",
            "TOw\n",
            "TOM\n",
            "TOg\n",
            "TOi\n",
            "TOK\n",
            "TOP\n",
            "TOq\n",
            "TOo\n",
            "TOc\n",
            "TOG\n",
            "TOY\n",
            "Target matched after 66 iterations\n"
          ]
        }
      ]
    },
    {
      "cell_type": "markdown",
      "source": [
        "#### Question 5.\tFind words which are greater than given length k"
      ],
      "metadata": {
        "id": "Uh_p68KmAesx"
      }
    },
    {
      "cell_type": "code",
      "source": [
        "my_string = input('Enter a string: ')\n",
        "k = int(input('Enter length : '))\n",
        "\n",
        "for word in my_string.strip().split(' '):\n",
        "  if len(word) > k :\n",
        "    print(word)"
      ],
      "metadata": {
        "id": "4XEUC6zmKrrI",
        "colab": {
          "base_uri": "https://localhost:8080/"
        },
        "outputId": "14c43727-4a6b-44b1-8c6e-4c38918e394b"
      },
      "execution_count": 3,
      "outputs": [
        {
          "output_type": "stream",
          "name": "stdout",
          "text": [
            "Enter a string: Education is the most powerful weapon which you can use to change the world.\n",
            "Enter length : 5\n",
            "Education\n",
            "powerful\n",
            "weapon\n",
            "change\n",
            "world.\n"
          ]
        }
      ]
    },
    {
      "cell_type": "markdown",
      "source": [
        "#### Question 6.\tPython program for removing i-th character from a string"
      ],
      "metadata": {
        "id": "u0F4w_4BCj00"
      }
    },
    {
      "cell_type": "code",
      "source": [
        "my_string = input('Enter a string: ')\n",
        "i = int(input('Enter character index : '))\n",
        "\n",
        "new_string = my_string[0:i]+my_string[i+1:]\n",
        "print('String updated: {}'.format(new_string))"
      ],
      "metadata": {
        "colab": {
          "base_uri": "https://localhost:8080/"
        },
        "id": "yJPeRXujBZr-",
        "outputId": "083ed802-7b6a-4b5e-c3f5-5cb7dcd4d84b"
      },
      "execution_count": 6,
      "outputs": [
        {
          "output_type": "stream",
          "name": "stdout",
          "text": [
            "Enter a string: Pomodoro\n",
            "Enter character index : 2\n",
            "String updated: Poodoro\n"
          ]
        }
      ]
    },
    {
      "cell_type": "markdown",
      "source": [
        "#### Question 7.\tPython program to split and join a string"
      ],
      "metadata": {
        "id": "40pTCkmgDaNi"
      }
    },
    {
      "cell_type": "code",
      "source": [
        "my_string = input('Enter a string: ')\n",
        "\n",
        "#spliting\n",
        "split_str = my_string.split(' ')\n",
        "print('Spliting a string: {}'.format(split_str))\n",
        "\n",
        "#joining\n",
        "join_str = '-'.join(split_str)\n",
        "print('Joining a string: {}'.format(join_str))"
      ],
      "metadata": {
        "colab": {
          "base_uri": "https://localhost:8080/"
        },
        "id": "wgDdUyqvDFw3",
        "outputId": "1e078cd9-1e42-47d6-ea41-6c4446fa2993"
      },
      "execution_count": 9,
      "outputs": [
        {
          "output_type": "stream",
          "name": "stdout",
          "text": [
            "Enter a string: Shaka laka boom boom\n",
            "Spliting a string: ['Shaka', 'laka', 'boom', 'boom']\n",
            "Joining a string: Shaka-laka-boom-boom\n"
          ]
        }
      ]
    },
    {
      "cell_type": "markdown",
      "source": [
        "#### Question 8.\tPython | Check if a given string is binary string or not"
      ],
      "metadata": {
        "id": "uIzRdQSAE8hf"
      }
    },
    {
      "cell_type": "code",
      "source": [
        "my_string = input('Enter a string: ')\n",
        "\n",
        "t='01'\n",
        "count=0\n",
        "for ch in my_string:\n",
        "  if ch not in t:\n",
        "    count = 1\n",
        "    break\n",
        "  else:\n",
        "    pass\n",
        "\n",
        "if count:\n",
        "  print('No')\n",
        "else:\n",
        "  print('Yes')"
      ],
      "metadata": {
        "colab": {
          "base_uri": "https://localhost:8080/"
        },
        "id": "dIUBa9ffEUJe",
        "outputId": "da05e3cf-6d6c-4347-ee5a-92c45fbfb35c"
      },
      "execution_count": 10,
      "outputs": [
        {
          "output_type": "stream",
          "name": "stdout",
          "text": [
            "Enter a string: 1010101\n",
            "Yes\n"
          ]
        }
      ]
    },
    {
      "cell_type": "markdown",
      "source": [
        "#### Question 9.\tPython program to find uncommon words from two Strings"
      ],
      "metadata": {
        "id": "KXn1NZ6UFyKF"
      }
    },
    {
      "cell_type": "code",
      "source": [
        "string1 = input('Enter a string: ')\n",
        "string2 = input('Enter another string: ')\n",
        "\n",
        "uncommon_words = set(string1.split(' ')).symmetric_difference(set(string2.split(' ')))\n",
        "print(uncommon_words)"
      ],
      "metadata": {
        "colab": {
          "base_uri": "https://localhost:8080/"
        },
        "id": "CZOZpXWaFv9K",
        "outputId": "c9f3c37c-f2d8-42f1-bfea-cd7b13422dfd"
      },
      "execution_count": 11,
      "outputs": [
        {
          "output_type": "stream",
          "name": "stdout",
          "text": [
            "Enter a string: Cloud Rain Water Cool Air Light\n",
            "Enter another string: Ocean Sea Water Cool Fish\n",
            "{'Fish', 'Air', 'Rain', 'Light', 'Ocean', 'Sea', 'Cloud'}\n"
          ]
        }
      ]
    },
    {
      "cell_type": "markdown",
      "source": [
        "#### Question 10.\tPython – Replace duplicate Occurrence in String"
      ],
      "metadata": {
        "id": "yqqNnByBGyKD"
      }
    },
    {
      "cell_type": "code",
      "source": [
        "my_string = 'Kiku is a good dog . Kiku likes to play with Ball . Ball is of blue colour.'\n",
        "replace_lst = {'Kiku':'He', 'Ball':'It'}\n",
        "\n",
        "string_lst = my_string.split(' ')\n",
        "unique_words = set()\n",
        "\n",
        "for k,v in enumerate(string_lst):\n",
        "  if v in replace_lst:\n",
        "    if v in unique_words:\n",
        "      # replace\n",
        "      string_lst[k] = replace_lst[v]\n",
        "    else:\n",
        "      unique_words.add(v)\n",
        "\n",
        "new_string = ' '.join(string_lst)\n",
        "print('String after replacement: {}'.format(new_string))"
      ],
      "metadata": {
        "colab": {
          "base_uri": "https://localhost:8080/"
        },
        "id": "e4Wqx4teGThw",
        "outputId": "d683c605-5622-4eff-e75d-d5a0c4f4cea7"
      },
      "execution_count": 16,
      "outputs": [
        {
          "output_type": "stream",
          "name": "stdout",
          "text": [
            "String after replacement: Kiku is a good dog . He likes to play with Ball . It is of blue colour.\n"
          ]
        }
      ]
    },
    {
      "cell_type": "code",
      "source": [
        ""
      ],
      "metadata": {
        "id": "Q-Lnsj4dLM43"
      },
      "execution_count": null,
      "outputs": []
    }
  ]
}