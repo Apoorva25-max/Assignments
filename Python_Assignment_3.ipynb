{
  "nbformat": 4,
  "nbformat_minor": 0,
  "metadata": {
    "colab": {
      "name": "Python_Assignment_3.ipynb",
      "provenance": [],
      "collapsed_sections": []
    },
    "kernelspec": {
      "name": "python3",
      "display_name": "Python 3"
    },
    "language_info": {
      "name": "python"
    }
  },
  "cells": [
    {
      "cell_type": "markdown",
      "source": [
        "#### Question 1.\tPython Program for Find reminder of array multiplication divided by n"
      ],
      "metadata": {
        "id": "9lyPwgVvvMDR"
      }
    },
    {
      "cell_type": "code",
      "execution_count": 7,
      "metadata": {
        "colab": {
          "base_uri": "https://localhost:8080/"
        },
        "id": "RD0vKZPRniDn",
        "outputId": "046140a3-122b-42f7-bc01-255bfcc88872"
      },
      "outputs": [
        {
          "output_type": "stream",
          "name": "stdout",
          "text": [
            "Enter numbers in array :2 4 6 8\n",
            "Enter number to divide : 3\n",
            "Product : 384 \n",
            "Reminder : 0\n"
          ]
        }
      ],
      "source": [
        "from functools import reduce\n",
        "\n",
        "arr = list(map(int, input('Enter numbers in array :').split(' ')))\n",
        "n = int(input('Enter number to divide : '))\n",
        "\n",
        "def find_reminder(arr,n):\n",
        "  \n",
        "  arr_product = reduce(lambda x,y:x*y, arr)\n",
        "  arr_reminder = arr_product % n\n",
        "  print('Product : {} \\nReminder : {}'.format(arr_product,arr_reminder))\n",
        "\n",
        "find_reminder(arr,n)"
      ]
    },
    {
      "cell_type": "markdown",
      "source": [
        "#### Question 2.\tPython Program to check if given array is Monotonic"
      ],
      "metadata": {
        "id": "NY-qD8Clziga"
      }
    },
    {
      "cell_type": "code",
      "source": [
        "arr = list(map(int, input('Enter numbers in array :').strip().split(' ')))\n",
        "\n",
        "def is_monotonic(arr):\n",
        "  if (all([arr[i] >= arr[i+1] for i in range(len(arr)-1)])) or (all([arr[i] <= arr[i+1] for i in range(len(arr)-1)])):\n",
        "    print('Array is monotonic')\n",
        "  else:\n",
        "    print('Array is not monotonic')\n",
        "\n",
        "is_monotonic(arr) "
      ],
      "metadata": {
        "colab": {
          "base_uri": "https://localhost:8080/"
        },
        "id": "I4HRCJxkxZSZ",
        "outputId": "dd06c3bd-77af-4e1d-ec4f-95901c57f581"
      },
      "execution_count": 13,
      "outputs": [
        {
          "output_type": "stream",
          "name": "stdout",
          "text": [
            "Enter numbers in array :43 34 21 6 2\n",
            "Array is monotonic\n"
          ]
        }
      ]
    },
    {
      "cell_type": "markdown",
      "source": [
        "#### Question 3.\tPython program to interchange first and last elements in a list"
      ],
      "metadata": {
        "id": "cKsx7qko1taT"
      }
    },
    {
      "cell_type": "code",
      "source": [
        "arr = list(map(int, input('Enter numbers in array :').strip().split(' ')))\n",
        "\n",
        "def arr_first_last_switch(arr):\n",
        "  temp=arr[0]\n",
        "  arr[0]=arr[-1]\n",
        "  arr[-1]=temp\n",
        "  return arr\n",
        "\n",
        "arr_new = arr_first_last_switch(arr)\n",
        "print('After Swapping : ', arr_new)"
      ],
      "metadata": {
        "colab": {
          "base_uri": "https://localhost:8080/"
        },
        "id": "GqnANV0x03DG",
        "outputId": "13a3fb33-84c9-4875-e2a9-a232140c4acb"
      },
      "execution_count": 14,
      "outputs": [
        {
          "output_type": "stream",
          "name": "stdout",
          "text": [
            "Enter numbers in array :4 6 8 2 3\n",
            "After Swapping :  [3, 6, 8, 2, 4]\n"
          ]
        }
      ]
    },
    {
      "cell_type": "markdown",
      "source": [
        "#### Question 4.\tPython program to swap two elements in a list"
      ],
      "metadata": {
        "id": "42giyLn82-oX"
      }
    },
    {
      "cell_type": "code",
      "source": [
        "arr = list(map(int, input('Enter numbers in array :').strip().split(' ')))\n",
        "a = int(input('Enter position of a element : '))\n",
        "b = int(input('Enter position of another element : '))\n",
        "\n",
        "def arr_swap_2elements(arr,a,b):\n",
        "  temp = arr[a]\n",
        "  arr[a]=arr[b]\n",
        "  arr[b]=temp\n",
        "  return arr\n",
        "\n",
        "arr_new = arr_swap_2elements(arr,a,b)\n",
        "print('After Swapping : ', arr_new)"
      ],
      "metadata": {
        "colab": {
          "base_uri": "https://localhost:8080/"
        },
        "id": "1-UAceJH2a-G",
        "outputId": "bfa4ae57-522f-4822-f892-2fd3eebe9a42"
      },
      "execution_count": 16,
      "outputs": [
        {
          "output_type": "stream",
          "name": "stdout",
          "text": [
            "Enter numbers in array :34 65 45 78 89 95\n",
            "Enter position of a element : 1\n",
            "Enter position of another element : 2\n",
            "After Swapping :  [34, 45, 65, 78, 89, 95]\n"
          ]
        }
      ]
    },
    {
      "cell_type": "markdown",
      "source": [
        "#### Question 5.\twrite a program to find length of list"
      ],
      "metadata": {
        "id": "9QFG9EUR4H1W"
      }
    },
    {
      "cell_type": "code",
      "source": [
        "lst = list(input('Enter items in list :').strip().split(' '))\n",
        "\n",
        "print('Length of list : {}'.format(len(lst)))"
      ],
      "metadata": {
        "colab": {
          "base_uri": "https://localhost:8080/"
        },
        "id": "w5Y5Lu7f3tPR",
        "outputId": "b4e30b09-f0c0-4788-d78e-bdaba2f89b26"
      },
      "execution_count": 17,
      "outputs": [
        {
          "output_type": "stream",
          "name": "stdout",
          "text": [
            "Enter items in list :24 56 12 98\n",
            "Length of list : 4\n"
          ]
        }
      ]
    },
    {
      "cell_type": "markdown",
      "source": [
        "#### Question 6.\twrite a program to check if element exists in list"
      ],
      "metadata": {
        "id": "Go5Oh4kr4mxm"
      }
    },
    {
      "cell_type": "code",
      "source": [
        "lst = list(input('Enter items in list :').strip().split(' '))\n",
        "item = input('Enter item to check: ')\n",
        "\n",
        "print(['Item is present in the list' if item in lst else 'Item is not present in the list'])"
      ],
      "metadata": {
        "colab": {
          "base_uri": "https://localhost:8080/"
        },
        "id": "krsQceru4mLE",
        "outputId": "d83e8195-3a26-4bb4-d0bd-f05ba4418e97"
      },
      "execution_count": 18,
      "outputs": [
        {
          "output_type": "stream",
          "name": "stdout",
          "text": [
            "Enter items in list :lily apple ball car cat\n",
            "Enter item to check: crocodile\n",
            "['Item is not present in the list']\n"
          ]
        }
      ]
    },
    {
      "cell_type": "markdown",
      "source": [
        "#### Question 7.\twrite a program to clear a list in Python"
      ],
      "metadata": {
        "id": "q-JC3s595hXA"
      }
    },
    {
      "cell_type": "code",
      "source": [
        "lst = list(input('Enter items in list :').strip().split(' '))\n",
        "lst = []\n",
        "print(lst)"
      ],
      "metadata": {
        "colab": {
          "base_uri": "https://localhost:8080/"
        },
        "id": "AY0J86lE4ico",
        "outputId": "9887cf9d-53da-414f-fbc5-c9c25ce61e4c"
      },
      "execution_count": 20,
      "outputs": [
        {
          "output_type": "stream",
          "name": "stdout",
          "text": [
            "Enter items in list :4 8 0 3\n",
            "[]\n"
          ]
        }
      ]
    },
    {
      "cell_type": "markdown",
      "source": [
        "#### Question 8.\twrite a program to Reversing a List"
      ],
      "metadata": {
        "id": "ExaCQ3g_6NSx"
      }
    },
    {
      "cell_type": "code",
      "source": [
        "lst = list(input('Enter items in list :').strip().split(' '))\n",
        "\n",
        "lst2 = lst[::-1]\n",
        "print('Reverse : {}'.format(lst2))"
      ],
      "metadata": {
        "colab": {
          "base_uri": "https://localhost:8080/"
        },
        "id": "DQP8Pxu36MhQ",
        "outputId": "f1d0b7b3-741b-401d-a44e-ef0f3ea73b04"
      },
      "execution_count": 21,
      "outputs": [
        {
          "output_type": "stream",
          "name": "stdout",
          "text": [
            "Enter items in list :3 5 7 9 \n",
            "Reverse : ['9', '7', '5', '3']\n"
          ]
        }
      ]
    },
    {
      "cell_type": "markdown",
      "source": [
        "#### Question 9.\twrite a program to find sum of elements in list"
      ],
      "metadata": {
        "id": "kx7AGK8u6kVl"
      }
    },
    {
      "cell_type": "code",
      "source": [
        "lst = list(map(int,input('Enter items in list :').strip().split(' ')))\n",
        "\n",
        "print('Sum of list elements : {}'.format(sum(lst)))"
      ],
      "metadata": {
        "colab": {
          "base_uri": "https://localhost:8080/"
        },
        "id": "6jGhT5-G50US",
        "outputId": "1824a7ed-2f11-48e0-b6ac-f43202b70e6b"
      },
      "execution_count": 22,
      "outputs": [
        {
          "output_type": "stream",
          "name": "stdout",
          "text": [
            "Enter items in list :2 4 6 8 3 5\n",
            "Sum of list elements : 28\n"
          ]
        }
      ]
    },
    {
      "cell_type": "markdown",
      "source": [
        "#### Question 10.\twrite a program to Multiply all numbers in the list"
      ],
      "metadata": {
        "id": "Ow-fnXaj67No"
      }
    },
    {
      "cell_type": "code",
      "source": [
        "from functools import reduce\n",
        "lst = list(map(int,input('Enter items in list :').strip().split(' ')))\n",
        "\n",
        "product = reduce(lambda x,y:x*y, lst)\n",
        "print('Product of list elements : {}'.format(product))"
      ],
      "metadata": {
        "colab": {
          "base_uri": "https://localhost:8080/"
        },
        "id": "snw-z0fH634R",
        "outputId": "3639e6a9-e2fd-49f8-fb09-0b6c5f8a1175"
      },
      "execution_count": 25,
      "outputs": [
        {
          "output_type": "stream",
          "name": "stdout",
          "text": [
            "Enter items in list :1 2 3 4 5\n",
            "Product of list elements : 120\n"
          ]
        }
      ]
    }
  ]
}