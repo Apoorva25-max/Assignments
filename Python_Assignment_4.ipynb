{
  "nbformat": 4,
  "nbformat_minor": 0,
  "metadata": {
    "colab": {
      "name": "Python_Assignment_4.ipynb",
      "provenance": [],
      "collapsed_sections": []
    },
    "kernelspec": {
      "name": "python3",
      "display_name": "Python 3"
    },
    "language_info": {
      "name": "python"
    }
  },
  "cells": [
    {
      "cell_type": "markdown",
      "source": [
        "#### Question 1.\tPython program to find smallest number in a list"
      ],
      "metadata": {
        "id": "43qwTyltZ_qT"
      }
    },
    {
      "cell_type": "code",
      "execution_count": 1,
      "metadata": {
        "colab": {
          "base_uri": "https://localhost:8080/"
        },
        "id": "dFBFGO6oZ2H3",
        "outputId": "e6317adc-cd6b-4a78-d3be-a0cc155ad248"
      },
      "outputs": [
        {
          "output_type": "stream",
          "name": "stdout",
          "text": [
            "Enter values in list: 1 4 6 3 -3\n",
            "Smallest number is -3\n"
          ]
        }
      ],
      "source": [
        "lst = list(map(int, input('Enter values in list: ').strip().split(\" \")))\n",
        "\n",
        "print('Smallest number is {}'.format(min(lst)))"
      ]
    },
    {
      "cell_type": "markdown",
      "source": [
        "#### Question 2.\tPython program to find largest number in a list"
      ],
      "metadata": {
        "id": "kzsxsHC4auEc"
      }
    },
    {
      "cell_type": "code",
      "source": [
        "lst = list(map(int, input('Enter values in list: ').strip().split(\" \")))\n",
        "\n",
        "print('Largest number is {}'.format(max(lst)))"
      ],
      "metadata": {
        "colab": {
          "base_uri": "https://localhost:8080/"
        },
        "id": "IKV90MYna3XL",
        "outputId": "c2ff0b17-943b-4403-9591-e300b307a1df"
      },
      "execution_count": 2,
      "outputs": [
        {
          "output_type": "stream",
          "name": "stdout",
          "text": [
            "Enter values in list: 45 87 -98 56 23\n",
            "Largest number is 87\n"
          ]
        }
      ]
    },
    {
      "cell_type": "markdown",
      "source": [
        "#### Question 3.\tPython program to find second largest number in a list"
      ],
      "metadata": {
        "id": "gUiZ709jbEoe"
      }
    },
    {
      "cell_type": "code",
      "source": [
        "lst = list(map(int, input('Enter values in list: ').strip().split(\" \")))\n",
        "\n",
        "second_largest = sorted(lst, reverse =True)[1]\n",
        "print('Second largest number is {}'.format(second_largest))"
      ],
      "metadata": {
        "colab": {
          "base_uri": "https://localhost:8080/"
        },
        "id": "kv-BXHZ9bJEM",
        "outputId": "93843534-6936-4250-ea73-e7d5877fd5b9"
      },
      "execution_count": 5,
      "outputs": [
        {
          "output_type": "stream",
          "name": "stdout",
          "text": [
            "Enter values in list: 32 43 65 86 43 23\n",
            "Second largest number is 65\n"
          ]
        }
      ]
    },
    {
      "cell_type": "markdown",
      "source": [
        "#### Question 4.\tPython program to find N largest elements from a list"
      ],
      "metadata": {
        "id": "g0Q1lQIecEXW"
      }
    },
    {
      "cell_type": "code",
      "source": [
        "lst = list(map(int, input('Enter values in list: ').strip().split(\" \")))\n",
        "n = int(input('Enter the value of N: '))\n",
        "\n",
        "n_largest = sorted(lst, reverse =True)[n-1]\n",
        "print('{} largest number is {}'.format(n, n_largest))"
      ],
      "metadata": {
        "colab": {
          "base_uri": "https://localhost:8080/"
        },
        "id": "Ai87N6d2cJL1",
        "outputId": "4d19c2af-35c5-4a98-a32e-52b0fe1bdcac"
      },
      "execution_count": 6,
      "outputs": [
        {
          "output_type": "stream",
          "name": "stdout",
          "text": [
            "Enter values in list: 34 75 21 45 32 67 89 43\n",
            "Enter the value of N: 4\n",
            "4 largest number is 45\n"
          ]
        }
      ]
    },
    {
      "cell_type": "markdown",
      "source": [
        "#### Question 5.\tPython program to print even numbers in a list"
      ],
      "metadata": {
        "id": "fTqs8ZB_c_hr"
      }
    },
    {
      "cell_type": "code",
      "source": [
        "lst = list(map(int, input('Enter values in list: ').strip().split(\" \")))\n",
        "\n",
        "print('Even numbers :', end=' ')\n",
        "for i in lst:\n",
        "  if i%2==0:\n",
        "    print(i, end=' ')"
      ],
      "metadata": {
        "colab": {
          "base_uri": "https://localhost:8080/"
        },
        "id": "C3TK5qm2c3AL",
        "outputId": "da9e5398-cd51-41d4-84fd-8a22c4fc09ea"
      },
      "execution_count": 9,
      "outputs": [
        {
          "output_type": "stream",
          "name": "stdout",
          "text": [
            "Enter values in list: 34 56 44 56 77 67 23 45\n",
            "Even numbers : 34 56 44 56 "
          ]
        }
      ]
    },
    {
      "cell_type": "markdown",
      "source": [
        "#### Question 6.\tPython program to print odd numbers in a List"
      ],
      "metadata": {
        "id": "WIEwcJnMdgyZ"
      }
    },
    {
      "cell_type": "code",
      "source": [
        "lst = list(map(int, input('Enter values in list: ').strip().split(\" \")))\n",
        "\n",
        "print('Odd numbers :', end=' ')\n",
        "for i in lst:\n",
        "  if i%2 != 0:\n",
        "    print(i, end=' ')"
      ],
      "metadata": {
        "colab": {
          "base_uri": "https://localhost:8080/"
        },
        "id": "rKNW3vMadOTW",
        "outputId": "57a8fae7-5b88-4f54-8825-55c623b99ab1"
      },
      "execution_count": 10,
      "outputs": [
        {
          "output_type": "stream",
          "name": "stdout",
          "text": [
            "Enter values in list: 23 56 43 56 89 443 56\n",
            "Odd numbers : 23 43 89 443 "
          ]
        }
      ]
    },
    {
      "cell_type": "markdown",
      "source": [
        "#### Question 7.\tPython program to print all even numbers in a range"
      ],
      "metadata": {
        "id": "Zr9d8ZamduDT"
      }
    },
    {
      "cell_type": "code",
      "source": [
        "r1,r2 = map(int, input('Enter range values : ').strip().split(' '))\n",
        "\n",
        "print('Even numbers :', end=' ')\n",
        "for i in range(r1 , r2+1):\n",
        "  if i%2 == 0:\n",
        "    print(i, end=' ')"
      ],
      "metadata": {
        "colab": {
          "base_uri": "https://localhost:8080/"
        },
        "id": "fVW5xNP0dqbb",
        "outputId": "861c7862-5bf9-4fc2-bcde-e1629d913396"
      },
      "execution_count": 11,
      "outputs": [
        {
          "output_type": "stream",
          "name": "stdout",
          "text": [
            "Enter range values : 3 8\n",
            "Even numbers : 4 6 8 "
          ]
        }
      ]
    },
    {
      "cell_type": "markdown",
      "source": [
        "#### Question 8.\tPython program to print all odd numbers in a range"
      ],
      "metadata": {
        "id": "ogzoofVleaPp"
      }
    },
    {
      "cell_type": "code",
      "source": [
        "r1,r2 = map(int, input('Enter range values : ').strip().split(' '))\n",
        "\n",
        "print('Odd numbers :', end=' ')\n",
        "for i in range(r1 , r2+1):\n",
        "  if i%2 != 0:\n",
        "    print(i, end=' ')"
      ],
      "metadata": {
        "colab": {
          "base_uri": "https://localhost:8080/"
        },
        "id": "6mbDH8_ReXZi",
        "outputId": "ee7c84e2-e1b0-4b26-9331-f3b0dfec92fd"
      },
      "execution_count": 12,
      "outputs": [
        {
          "output_type": "stream",
          "name": "stdout",
          "text": [
            "Enter range values : 22 30\n",
            "Odd numbers : 23 25 27 29 "
          ]
        }
      ]
    },
    {
      "cell_type": "markdown",
      "source": [
        "#### Question 9.\tPython program to print positive numbers in a list"
      ],
      "metadata": {
        "id": "f6LItIFwelSK"
      }
    },
    {
      "cell_type": "code",
      "source": [
        "lst = list(map(int, input('Enter values in list: ').strip().split(\" \")))\n",
        "\n",
        "print('Positive numbers : {}'.format([x for x in lst if x>0]))"
      ],
      "metadata": {
        "colab": {
          "base_uri": "https://localhost:8080/"
        },
        "id": "0vXjltmAehdk",
        "outputId": "0b81973d-42bd-464f-cbfb-5bf73a935e4b"
      },
      "execution_count": 22,
      "outputs": [
        {
          "output_type": "stream",
          "name": "stdout",
          "text": [
            "Enter values in list: 4 -2 0 1 -4 -5 3\n",
            "Positive numbers : [4, 1, 3]\n"
          ]
        }
      ]
    },
    {
      "cell_type": "markdown",
      "source": [
        "#### Question 10.\tPython program to print negative numbers in a list"
      ],
      "metadata": {
        "id": "k4nea3XhflHM"
      }
    },
    {
      "cell_type": "code",
      "source": [
        "lst = list(map(int, input('Enter values in list: ').strip().split(\" \")))\n",
        "\n",
        "print('Positive numbers : {}'.format([x for x in lst if x<0]))"
      ],
      "metadata": {
        "colab": {
          "base_uri": "https://localhost:8080/"
        },
        "id": "XWJEYl1ufJOe",
        "outputId": "751c81ac-6bdf-4d2b-88f3-fcd642c31d37"
      },
      "execution_count": 23,
      "outputs": [
        {
          "output_type": "stream",
          "name": "stdout",
          "text": [
            "Enter values in list: 3 6 -2 -4 3 -7 0 1\n",
            "Positive numbers : [-2, -4, -7]\n"
          ]
        }
      ]
    },
    {
      "cell_type": "markdown",
      "source": [
        "#### Question 11.\tPython program to print all positive numbers in a range"
      ],
      "metadata": {
        "id": "Jj3DzdaFhsYz"
      }
    },
    {
      "cell_type": "code",
      "source": [
        "r1,r2 = map(int, input('Enter range values : ').strip().split(' '))\n",
        "\n",
        "print('Positive numbers : {}'.format([x for x in range(r1,r2+1) if x>0]))"
      ],
      "metadata": {
        "colab": {
          "base_uri": "https://localhost:8080/"
        },
        "id": "rU99C97rhobD",
        "outputId": "9c82e552-5f2f-4391-9859-36ce4609589d"
      },
      "execution_count": 24,
      "outputs": [
        {
          "output_type": "stream",
          "name": "stdout",
          "text": [
            "Enter range values : -10 5\n",
            "Positive numbers : [1, 2, 3, 4, 5]\n"
          ]
        }
      ]
    }
  ]
}