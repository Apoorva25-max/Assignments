{
  "nbformat": 4,
  "nbformat_minor": 0,
  "metadata": {
    "colab": {
      "name": "Python_Assignment_6.ipynb",
      "provenance": [],
      "collapsed_sections": []
    },
    "kernelspec": {
      "name": "python3",
      "display_name": "Python 3"
    },
    "language_info": {
      "name": "python"
    }
  },
  "cells": [
    {
      "cell_type": "markdown",
      "source": [
        "#### Question 1.\tPython program to add two Matrices"
      ],
      "metadata": {
        "id": "amimQcUvvDaT"
      }
    },
    {
      "cell_type": "code",
      "execution_count": 3,
      "metadata": {
        "colab": {
          "base_uri": "https://localhost:8080/"
        },
        "id": "zu3P5FSru9v_",
        "outputId": "dac72d66-c51f-467c-8ffb-2bce2a024cc5"
      },
      "outputs": [
        {
          "output_type": "stream",
          "name": "stdout",
          "text": [
            "[ 6 10  8  9 10]\n"
          ]
        }
      ],
      "source": [
        "import numpy as np\n",
        "\n",
        "a = np.array([1,3,5,7,4])\n",
        "b = np.array([5,7,3,2,6])\n",
        "\n",
        "print(a+b)"
      ]
    },
    {
      "cell_type": "markdown",
      "source": [
        "#### Question 2.\tPython program to multiply two matrices"
      ],
      "metadata": {
        "id": "TaHLy9csv4_Q"
      }
    },
    {
      "cell_type": "code",
      "source": [
        "a = np.array([1,3,5,7,4])\n",
        "b = np.array([5,7,3,2,6])\n",
        "\n",
        "print(a*b)"
      ],
      "metadata": {
        "colab": {
          "base_uri": "https://localhost:8080/"
        },
        "id": "n5GN59qyvZcY",
        "outputId": "197f62df-f42b-4126-e69e-18d3b41981c8"
      },
      "execution_count": 4,
      "outputs": [
        {
          "output_type": "stream",
          "name": "stdout",
          "text": [
            "[ 5 21 15 14 24]\n"
          ]
        }
      ]
    },
    {
      "cell_type": "markdown",
      "source": [
        "#### Question 3.\tPython program for Matrix Product"
      ],
      "metadata": {
        "id": "fype0QK3v7yx"
      }
    },
    {
      "cell_type": "code",
      "source": [
        "a = np.array([[1,3,5,7,4],[1,2,3,5,6]])\n",
        "b = np.array([[5],[7],[3],[2],[6]])\n",
        "\n",
        "print(np.dot(a,b))"
      ],
      "metadata": {
        "colab": {
          "base_uri": "https://localhost:8080/"
        },
        "id": "1vb14cUpwHbw",
        "outputId": "f9889004-fb06-4e32-e022-96f459c2cd67"
      },
      "execution_count": 6,
      "outputs": [
        {
          "output_type": "stream",
          "name": "stdout",
          "text": [
            "[[79]\n",
            " [74]]\n"
          ]
        }
      ]
    },
    {
      "cell_type": "markdown",
      "source": [
        "#### Question 4. Adding and Subtracting Matrices in Python"
      ],
      "metadata": {
        "id": "_EpNE3p3wyB7"
      }
    },
    {
      "cell_type": "code",
      "source": [
        "a = np.array([1,3,5,7,4])\n",
        "\n",
        "# Adding 5\n",
        "print(a+5)\n",
        "\n",
        "# Subtracting 3\n",
        "print(a-3)"
      ],
      "metadata": {
        "colab": {
          "base_uri": "https://localhost:8080/"
        },
        "id": "s2uyfuFuwZxq",
        "outputId": "b4bdc6d6-2de1-43ba-e5ef-2a17ebffa1c0"
      },
      "execution_count": 7,
      "outputs": [
        {
          "output_type": "stream",
          "name": "stdout",
          "text": [
            "[ 6  8 10 12  9]\n",
            "[-2  0  2  4  1]\n"
          ]
        }
      ]
    },
    {
      "cell_type": "markdown",
      "source": [
        "#### Question 5.\tTranspose a matrix in Single line in Python"
      ],
      "metadata": {
        "id": "tn-chf6vxbOd"
      }
    },
    {
      "cell_type": "code",
      "source": [
        "a = np.array([[5,7],[3,2],[6,4]])\n",
        "\n",
        "print('Before traspose:')\n",
        "print(a)\n",
        "print('After transpose:')\n",
        "print(np.transpose(a))  # can also use a.T to transpose"
      ],
      "metadata": {
        "colab": {
          "base_uri": "https://localhost:8080/"
        },
        "id": "sdUoec8ZxYF7",
        "outputId": "30063e47-a39f-456e-fa6f-e60fd1bb6f60"
      },
      "execution_count": 12,
      "outputs": [
        {
          "output_type": "stream",
          "name": "stdout",
          "text": [
            "Before traspose:\n",
            "[[5 7]\n",
            " [3 2]\n",
            " [6 4]]\n",
            "After transpose:\n",
            "[[5 3 6]\n",
            " [7 2 4]]\n"
          ]
        }
      ]
    },
    {
      "cell_type": "markdown",
      "source": [
        "#### Question 6.\tPython | Matrix creation of n*n"
      ],
      "metadata": {
        "id": "CKjvl62AyVhQ"
      }
    },
    {
      "cell_type": "code",
      "source": [
        "n = int(input('Enter value of n: '))\n",
        "\n",
        "matrix = np.array([list(range(n*i+1, (n*(i+1)+1))) for i in range(n)])\n",
        "print(matrix)"
      ],
      "metadata": {
        "colab": {
          "base_uri": "https://localhost:8080/"
        },
        "id": "8GBVl2Hdxvlk",
        "outputId": "26a8e1de-a606-4de2-9863-c1c3e380fe1b"
      },
      "execution_count": 28,
      "outputs": [
        {
          "output_type": "stream",
          "name": "stdout",
          "text": [
            "Enter value of n: 5\n",
            "[[ 1  2  3  4  5]\n",
            " [ 6  7  8  9 10]\n",
            " [11 12 13 14 15]\n",
            " [16 17 18 19 20]\n",
            " [21 22 23 24 25]]\n"
          ]
        }
      ]
    },
    {
      "cell_type": "markdown",
      "source": [
        "#### Question 7.\tPython | Get Kth Column of Matrix"
      ],
      "metadata": {
        "id": "my9RNUY17kso"
      }
    },
    {
      "cell_type": "code",
      "source": [
        "matrix = [[3,4,5],[5,6,7],[7,8,9]]\n",
        "k=1\n",
        "\n",
        "print([x[k] for x in matrix])"
      ],
      "metadata": {
        "colab": {
          "base_uri": "https://localhost:8080/"
        },
        "id": "teV6GjGb5aNp",
        "outputId": "e076c869-3649-4686-e6a1-6b019f51d38c"
      },
      "execution_count": 34,
      "outputs": [
        {
          "output_type": "stream",
          "name": "stdout",
          "text": [
            "[4, 6, 8]\n"
          ]
        }
      ]
    },
    {
      "cell_type": "markdown",
      "source": [
        "#### Question 8.\tPython – Vertical Concatenation in Matrix"
      ],
      "metadata": {
        "id": "J_FPtAN08sVv"
      }
    },
    {
      "cell_type": "code",
      "source": [
        "a = ['sun', 'moon', 'star']\n",
        "b = ['day', 'light', 'struck']\n",
        "\n",
        "print([''.join(ele) for ele in zip(a,b)])"
      ],
      "metadata": {
        "colab": {
          "base_uri": "https://localhost:8080/"
        },
        "id": "kEi29X-t76vi",
        "outputId": "cf98053b-d667-43e5-d9dc-57905ac46ab6"
      },
      "execution_count": 40,
      "outputs": [
        {
          "output_type": "stream",
          "name": "stdout",
          "text": [
            "['sunday', 'moonlight', 'starstruck']\n"
          ]
        }
      ]
    },
    {
      "cell_type": "markdown",
      "source": [
        "#### Question 9.\tPython program to check if a string is palindrome or not"
      ],
      "metadata": {
        "id": "vtepAdQe95Hn"
      }
    },
    {
      "cell_type": "code",
      "source": [
        "my_string = input('Enter a string : ')\n",
        "\n",
        "print('Palindrome' if my_string == my_string[::-1] else 'Not Palindrome')"
      ],
      "metadata": {
        "colab": {
          "base_uri": "https://localhost:8080/"
        },
        "id": "Urwh2Z3z8-yQ",
        "outputId": "e3a4108b-d0a9-4a58-9227-15c0737c7912"
      },
      "execution_count": 42,
      "outputs": [
        {
          "output_type": "stream",
          "name": "stdout",
          "text": [
            "Enter a string : MALAYALAM\n",
            "Palindrome\n"
          ]
        }
      ]
    },
    {
      "cell_type": "markdown",
      "source": [
        "#### Question 10.\tPython program to check whether the string is Symmetrical or Palindrome"
      ],
      "metadata": {
        "id": "C8q4wza-_zhM"
      }
    },
    {
      "cell_type": "code",
      "source": [
        "my_string = input('Enter a string : ')\n",
        "mid = round(len(my_string)/2)\n",
        "\n",
        "print('Symmetrical' if my_string[0:mid] == my_string[mid:] else 'Not Symmetrical')\n",
        "print('Palindrome' if my_string == my_string[::-1] else 'Not Palindrome')"
      ],
      "metadata": {
        "colab": {
          "base_uri": "https://localhost:8080/"
        },
        "id": "UnPeFcDO-_PH",
        "outputId": "f5fbd4af-2354-4a5e-f0ce-9f0b2bebd58e"
      },
      "execution_count": 49,
      "outputs": [
        {
          "output_type": "stream",
          "name": "stdout",
          "text": [
            "Enter a string : amaama\n",
            "Symmetrical\n",
            "Palindrome\n"
          ]
        }
      ]
    }
  ]
}