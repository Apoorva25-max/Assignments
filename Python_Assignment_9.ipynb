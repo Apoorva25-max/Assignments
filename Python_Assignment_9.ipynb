{
  "nbformat": 4,
  "nbformat_minor": 0,
  "metadata": {
    "colab": {
      "name": "Python_Assignment_9.ipynb",
      "provenance": [],
      "collapsed_sections": []
    },
    "kernelspec": {
      "name": "python3",
      "display_name": "Python 3"
    },
    "language_info": {
      "name": "python"
    }
  },
  "cells": [
    {
      "cell_type": "markdown",
      "source": [
        "#### Question 1.\tPython – Replace multiple words with K"
      ],
      "metadata": {
        "id": "9-63P-hgMpBt"
      }
    },
    {
      "cell_type": "code",
      "source": [
        "my_string = 'Rain Rain Go Away, Come again another day.'\n",
        "replace_words = ['Go', 'Come']\n",
        "replace_with = 'K'\n",
        "\n",
        "new_string = [' '.join([replace_with if i in replace_words else i for i in my_string.split(' ')])]\n",
        "print('String after replacing words with K: {}'.format(new_string))"
      ],
      "metadata": {
        "id": "i0sPEnyjMoup",
        "colab": {
          "base_uri": "https://localhost:8080/"
        },
        "outputId": "4b28e951-1d7d-4bc0-ab34-6710190b4376"
      },
      "execution_count": 1,
      "outputs": [
        {
          "output_type": "stream",
          "name": "stdout",
          "text": [
            "String after replacing words with K: ['Rain Rain K Away, K again another day.']\n"
          ]
        }
      ]
    },
    {
      "cell_type": "markdown",
      "source": [
        "#### Question 2.\tPython | Permutation of a given string using inbuilt function"
      ],
      "metadata": {
        "id": "PMCvIx2c9DFu"
      }
    },
    {
      "cell_type": "code",
      "execution_count": 5,
      "metadata": {
        "id": "4ooJzuB9MFSK",
        "colab": {
          "base_uri": "https://localhost:8080/"
        },
        "outputId": "748d4dac-3405-4037-c014-a3e34092ed49"
      },
      "outputs": [
        {
          "output_type": "stream",
          "name": "stdout",
          "text": [
            "All permutations of ABC :\n",
            "ABC\n",
            "ACB\n",
            "BAC\n",
            "BCA\n",
            "CAB\n",
            "CBA\n"
          ]
        }
      ],
      "source": [
        "from itertools import permutations\n",
        "\n",
        "my_string = 'ABC'\n",
        "permList = permutations(my_string)\n",
        "print('All permutations of {} :'.format(my_string))\n",
        "for perm in permList:\n",
        "  print(''.join(perm))"
      ]
    },
    {
      "cell_type": "markdown",
      "source": [
        "#### Question 3.\tPython | Check for URL in a String\n",
        "\n"
      ],
      "metadata": {
        "id": "9GjwJSix96ho"
      }
    },
    {
      "cell_type": "code",
      "source": [
        "import re\n",
        "\n",
        "my_string = 'Links for Best Olympics Moments: https://www.youtube.com/watch?v=rW_fwcmyIfk  https://www.youtube.com/watch?v=ssEzTsg0reE'\n",
        "\n",
        "regex = r\"(?i)\\b((?:https?://|www\\d{0,3}[.]|[a-z0-9.\\-]+[.][a-z]{2,4}/)(?:[^\\s()<>]+|\\(([^\\s()<>]+|(\\([^\\s()<>]+\\)))*\\))+(?:\\(([^\\s()<>]+|(\\([^\\s()<>]+\\)))*\\)|[^\\s`!()\\[\\]{};:'\\\".,<>?«»“”‘’]))\"\n",
        "url = re.findall(regex, my_string)\n",
        "print(\"Urls:\")\n",
        "for u in url:\n",
        "  print(u[0])\n"
      ],
      "metadata": {
        "colab": {
          "base_uri": "https://localhost:8080/"
        },
        "id": "NKWQ_Hqc9afY",
        "outputId": "5db53adf-994e-4142-a084-382e9708da68"
      },
      "execution_count": 10,
      "outputs": [
        {
          "output_type": "stream",
          "name": "stdout",
          "text": [
            "Urls:\n",
            "https://www.youtube.com/watch?v=rW_fwcmyIfk\n",
            "https://www.youtube.com/watch?v=ssEzTsg0reE\n"
          ]
        }
      ]
    },
    {
      "cell_type": "markdown",
      "source": [
        "#### Question 4.\tExecute a String of Code in Python"
      ],
      "metadata": {
        "id": "XKuUg_UaA5HT"
      }
    },
    {
      "cell_type": "code",
      "source": [
        "code = '''\n",
        "for i in range(1,11):\n",
        "  print(i*i)\n",
        "'''\n",
        "\n",
        "exec(code)"
      ],
      "metadata": {
        "colab": {
          "base_uri": "https://localhost:8080/"
        },
        "id": "Wu5UTlH4_76R",
        "outputId": "0629267d-0eb8-485b-eb56-77aa5458c49c"
      },
      "execution_count": 15,
      "outputs": [
        {
          "output_type": "stream",
          "name": "stdout",
          "text": [
            "1\n",
            "4\n",
            "9\n",
            "16\n",
            "25\n",
            "36\n",
            "49\n",
            "64\n",
            "81\n",
            "100\n"
          ]
        }
      ]
    },
    {
      "cell_type": "markdown",
      "source": [
        "#### Question 5.\tString slicing in Python to rotate a string"
      ],
      "metadata": {
        "id": "S9Qr4f6gCYlI"
      }
    },
    {
      "cell_type": "code",
      "source": [
        "my_string = 'Pikachu'\n",
        "d = 2\n",
        "\n",
        "#for left rotation\n",
        "print('Left rotation: {}'.format(''.join([my_string[d:], my_string[:d]])))\n",
        "#for right rotation\n",
        "print('Right rotation: {}'.format(''.join([my_string[-d:],my_string[:-d]])))"
      ],
      "metadata": {
        "colab": {
          "base_uri": "https://localhost:8080/"
        },
        "id": "_42B8GxaB5dP",
        "outputId": "b0ca2bfc-0ae9-4954-fb60-a671e351762f"
      },
      "execution_count": 27,
      "outputs": [
        {
          "output_type": "stream",
          "name": "stdout",
          "text": [
            "Left rotation: kachuPi\n",
            "Right rotation: huPikac\n"
          ]
        }
      ]
    },
    {
      "cell_type": "markdown",
      "source": [
        "#### Question 6.\tString slicing in Python to check if a string can become empty by recursive deletion"
      ],
      "metadata": {
        "id": "uqjcRxoVDmUs"
      }
    },
    {
      "cell_type": "code",
      "source": [
        "my_string = 'PikaPikaPikachuchuchu'\n",
        "pattern = 'Pikachu'\n",
        "\n",
        "def checkEmpty(my_string, pattern):\n",
        "  while len(my_string) != 0:\n",
        "    index = my_string.find(pattern)\n",
        "    if index == -1:\n",
        "      return False\n",
        "    else:\n",
        "      my_string = my_string[0:index] + my_string[index+len(pattern):]\n",
        "  return True\n",
        "\n",
        "print(checkEmpty(my_string,pattern))"
      ],
      "metadata": {
        "colab": {
          "base_uri": "https://localhost:8080/"
        },
        "id": "RFlOvHJDDaPK",
        "outputId": "c12caf5f-08e2-40d9-d50b-b199cac5c02a"
      },
      "execution_count": 28,
      "outputs": [
        {
          "output_type": "stream",
          "name": "stdout",
          "text": [
            "True\n"
          ]
        }
      ]
    },
    {
      "cell_type": "markdown",
      "source": [
        "#### Question 7.\tPython Counter| Find all duplicate characters in string"
      ],
      "metadata": {
        "id": "JMEeU3KUHGpy"
      }
    },
    {
      "cell_type": "code",
      "source": [
        "from collections import Counter\n",
        "\n",
        "my_string = 'google'\n",
        "\n",
        "WC = Counter(my_string)\n",
        "k=-1\n",
        "\n",
        "for k,v in WC.items():\n",
        "  if v>1:\n",
        "    print(k)"
      ],
      "metadata": {
        "colab": {
          "base_uri": "https://localhost:8080/"
        },
        "id": "D-Sqj9vTHEmI",
        "outputId": "45cd6188-4b92-4b3f-e701-03291373932a"
      },
      "execution_count": 38,
      "outputs": [
        {
          "output_type": "stream",
          "name": "stdout",
          "text": [
            "g\n",
            "o\n"
          ]
        }
      ]
    },
    {
      "cell_type": "markdown",
      "source": [
        "#### Question 8.\tPython – Replace all occurrences of a substring in a string"
      ],
      "metadata": {
        "id": "RbXV7vEmIrcV"
      }
    },
    {
      "cell_type": "code",
      "source": [
        "my_string = 'orangeisorange'\n",
        "sub1 = 'is'\n",
        "sub2 = 'by'\n",
        "\n",
        "temp = str.maketrans(sub1, sub2)\n",
        "print(str(my_string.translate(temp)))"
      ],
      "metadata": {
        "colab": {
          "base_uri": "https://localhost:8080/"
        },
        "id": "A-V6vxOgIF3F",
        "outputId": "3404f083-997d-4fed-a725-9cf873782d2f"
      },
      "execution_count": 47,
      "outputs": [
        {
          "output_type": "stream",
          "name": "stdout",
          "text": [
            "orangebyorange \n"
          ]
        }
      ]
    },
    {
      "cell_type": "markdown",
      "source": [
        "#### Question 9.\tPython – Extract Unique values dictionary values"
      ],
      "metadata": {
        "id": "eWJ_nfduO6oO"
      }
    },
    {
      "cell_type": "code",
      "source": [
        "my_dict = {'flowers':[4,6,8,1],\n",
        "           'fruits':[6,2,5],\n",
        "           'animals':[4,8,1,5,9]}\n",
        "\n",
        "print(list(sorted({ele for val in my_dict.values() for ele in val})))"
      ],
      "metadata": {
        "colab": {
          "base_uri": "https://localhost:8080/"
        },
        "id": "1_Ps9jVHLVk8",
        "outputId": "c0f761cc-629d-42c1-d420-eba4083b8e5b"
      },
      "execution_count": 51,
      "outputs": [
        {
          "output_type": "stream",
          "name": "stdout",
          "text": [
            "[1, 2, 4, 5, 6, 8, 9]\n"
          ]
        }
      ]
    },
    {
      "cell_type": "markdown",
      "source": [
        "#### Question 10.\tPython program to find the sum of all items in a dictionary"
      ],
      "metadata": {
        "id": "VaP-SNzKQ-d6"
      }
    },
    {
      "cell_type": "code",
      "source": [
        "my_dict = {'flowers':[4,6,8,1],\n",
        "           'fruits':[6,2,5],\n",
        "           'animals':[4,8,1,5,9]}\n",
        "\n",
        "print(sum([ele for val in my_dict.values() for ele in val]))"
      ],
      "metadata": {
        "colab": {
          "base_uri": "https://localhost:8080/"
        },
        "id": "ZJ-ju1L0Qrlr",
        "outputId": "1b918b82-db1c-4302-c3b7-54124b5a9cc4"
      },
      "execution_count": 52,
      "outputs": [
        {
          "output_type": "stream",
          "name": "stdout",
          "text": [
            "59\n"
          ]
        }
      ]
    }
  ]
}