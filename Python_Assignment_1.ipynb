{
  "cells": [
    {
      "cell_type": "markdown",
      "metadata": {
        "id": "BzYtLnjmvFo1"
      },
      "source": [
        "#### Question 1.\tWrite a Python program to find those numbers which are divisible by 7 and multiple of 5, between 1500 and 2700 (both included)."
      ]
    },
    {
      "cell_type": "code",
      "execution_count": 1,
      "metadata": {
        "colab": {
          "base_uri": "https://localhost:8080/"
        },
        "id": "Fr3UtR8IvWRF",
        "outputId": "7a1bdedc-bb5e-46b8-b37a-fe92ad3646b4"
      },
      "outputs": [
        {
          "name": "stdout",
          "output_type": "stream",
          "text": [
            "1505,1540,1575,1610,1645,1680,1715,1750,1785,1820,1855,1890,1925,1960,1995,2030,2065,2100,2135,2170,2205,2240,2275,2310,2345,2380,2415,2450,2485,2520,2555,2590,2625,2660,2695\n"
          ]
        }
      ],
      "source": [
        "nums = []\n",
        "for i in range(1500, 2701):\n",
        "  if (i % 7 == 0) & (i % 5 == 0):\n",
        "    nums.append(str(i))  \n",
        "print(','.join(nums))"
      ]
    },
    {
      "cell_type": "markdown",
      "metadata": {
        "id": "NoL8nKqTxOI6"
      },
      "source": [
        "#### Question 2.\tPython program to add two numbers"
      ]
    },
    {
      "cell_type": "code",
      "execution_count": 2,
      "metadata": {
        "colab": {
          "base_uri": "https://localhost:8080/"
        },
        "id": "A9yfUpw1xNpg",
        "outputId": "f8bcbdcd-4f9c-48f8-d78a-d656fb681ba4"
      },
      "outputs": [
        {
          "name": "stdout",
          "output_type": "stream",
          "text": [
            "Enter a number: 2\n",
            "Enter another number: 6\n",
            "Sum of 2 and 6 is 8\n"
          ]
        }
      ],
      "source": [
        "a = int(input('Enter a number: '))\n",
        "b = int(input('Enter another number: '))\n",
        "\n",
        "print('Sum of {} and {} is {}'.format(a,b,a+b))"
      ]
    },
    {
      "cell_type": "markdown",
      "metadata": {
        "id": "nONKo39ZylkF"
      },
      "source": [
        "#### Question 3.\tMaximum of two numbers in Python"
      ]
    },
    {
      "cell_type": "code",
      "execution_count": 3,
      "metadata": {
        "colab": {
          "base_uri": "https://localhost:8080/"
        },
        "id": "0MUVbELnv1j7",
        "outputId": "7bea893c-20cf-422b-e86a-5ce5af7a3883"
      },
      "outputs": [
        {
          "name": "stdout",
          "output_type": "stream",
          "text": [
            "Enter a number: 1\n",
            "Enter another number: 1\n",
            "Maximum number is 1\n"
          ]
        }
      ],
      "source": [
        "a = int(input('Enter a number: '))\n",
        "b = int(input('Enter another number: '))\n",
        "\n",
        "print('Maximum number is {}'.format(a if a>b else b))"
      ]
    },
    {
      "cell_type": "markdown",
      "metadata": {
        "id": "lHYKzbtuzLkS"
      },
      "source": [
        "#### Question 4.\tPython Program for factorial of a number"
      ]
    },
    {
      "cell_type": "code",
      "execution_count": 4,
      "metadata": {
        "colab": {
          "base_uri": "https://localhost:8080/"
        },
        "id": "wtlwCUQDy_Mk",
        "outputId": "f8f9f87b-2d36-485d-965a-0aa0bf18d218"
      },
      "outputs": [
        {
          "name": "stdout",
          "output_type": "stream",
          "text": [
            "Enter a number: 4\n",
            "Factorial of 4 is 24\n"
          ]
        }
      ],
      "source": [
        "n = int(input('Enter a number: '))\n",
        "f = 1\n",
        "\n",
        "for i in range(n,1,-1):\n",
        "  f = f*i\n",
        "print('Factorial of {} is {}'.format(n,f))"
      ]
    },
    {
      "cell_type": "markdown",
      "metadata": {
        "id": "9ZtR1DmI0V_n"
      },
      "source": [
        "#### Question 5.\tPython Program for simple interest"
      ]
    },
    {
      "cell_type": "code",
      "execution_count": 5,
      "metadata": {
        "colab": {
          "base_uri": "https://localhost:8080/"
        },
        "id": "gkaIYWFez0lZ",
        "outputId": "5659edce-d0f3-4f9b-e82a-fd6342b455b8"
      },
      "outputs": [
        {
          "name": "stdout",
          "output_type": "stream",
          "text": [
            "Enter Principal, rate and time :1000 10 2\n",
            "Simple Interest on amount Rs.1000 at 10% rate of interest for 2 years is Rs.200.0\n"
          ]
        }
      ],
      "source": [
        "vars = input('Enter Principal, rate and time :').split(' ')\n",
        "p = int(vars[0])\n",
        "r = int(vars[1])\n",
        "t = int(vars[2])\n",
        "\n",
        "si = (p*r*t)/100\n",
        "\n",
        "print('Simple Interest on amount Rs.{} at {}% rate of interest for {} years is Rs.{}'.format(p,r,t,si))"
      ]
    },
    {
      "cell_type": "markdown",
      "metadata": {
        "id": "ClU0Jzcv1sha"
      },
      "source": [
        "#### Question 6.\tPython Program for compound interest"
      ]
    },
    {
      "cell_type": "code",
      "execution_count": 6,
      "metadata": {
        "colab": {
          "base_uri": "https://localhost:8080/"
        },
        "id": "q9okY6Vn0rnP",
        "outputId": "18b29d87-a007-4782-a471-b42825ccacae"
      },
      "outputs": [
        {
          "name": "stdout",
          "output_type": "stream",
          "text": [
            "Enter Principal, rate and time :1000 10 2\n",
            "Compound Interest on amount Rs.1000 at 10% rate of interest for 2 years is Rs.210.00000000000023\n"
          ]
        }
      ],
      "source": [
        "vars = input('Enter Principal, rate and time :').split(' ')\n",
        "p = int(vars[0])\n",
        "r = int(vars[1])\n",
        "t = int(vars[2])\n",
        "\n",
        "A = p * (pow((1 + r / 100), t))\n",
        "ci = A-p\n",
        "\n",
        "print('Compound Interest on amount Rs.{} at {}% rate of interest for {} years is Rs.{}'.format(p,r,t,ci))"
      ]
    },
    {
      "cell_type": "markdown",
      "metadata": {
        "id": "VvzclCnw4Gyg"
      },
      "source": [
        "#### Question 7.\tPython Program to check Armstrong Number"
      ]
    },
    {
      "cell_type": "code",
      "execution_count": 15,
      "metadata": {
        "colab": {
          "base_uri": "https://localhost:8080/"
        },
        "id": "CDVXdZOB3M6m",
        "outputId": "8d6a2a1a-a9f9-4640-bd46-aa45846c2ccb"
      },
      "outputs": [
        {
          "name": "stdout",
          "output_type": "stream",
          "text": [
            "Enter a number :153\n",
            "Number is Armstrong\n"
          ]
        }
      ],
      "source": [
        "num = int(input('Enter a number :'))\n",
        "n=num\n",
        "sum=0\n",
        "while n!=0:\n",
        "  digit = n%10\n",
        "  sum = sum + digit**3\n",
        "  n //= 10\n",
        "\n",
        "print('Number is Armstrong' if sum == num else 'Number is not Armstrong') "
      ]
    },
    {
      "cell_type": "markdown",
      "metadata": {
        "id": "vkzHT-jJ00TJ"
      },
      "source": [
        "#### Question 8.\tPython Program for Program to find area of a circle"
      ]
    },
    {
      "cell_type": "code",
      "execution_count": 8,
      "metadata": {
        "colab": {
          "base_uri": "https://localhost:8080/"
        },
        "id": "p2Wm8lBp0zy9",
        "outputId": "22240a87-0510-43e3-f47d-16abd57a3a61"
      },
      "outputs": [
        {
          "name": "stdout",
          "output_type": "stream",
          "text": [
            "Enter a number :4\n",
            "Area of circle with radius 4 is 50.24\n"
          ]
        }
      ],
      "source": [
        "r = int(input('Enter a number :'))\n",
        "print('Area of circle with radius {} is {}'.format(r, (3.14*r*r)))"
      ]
    },
    {
      "cell_type": "markdown",
      "metadata": {
        "id": "sFaKl1pQ1hBK"
      },
      "source": [
        "#### Question 9.\tPython program to print all Prime numbers in an Interval"
      ]
    },
    {
      "cell_type": "code",
      "execution_count": 17,
      "metadata": {
        "colab": {
          "base_uri": "https://localhost:8080/"
        },
        "id": "UrxAtT9b57Il",
        "outputId": "d42ca346-ad13-4b2f-bfca-6686fec73318"
      },
      "outputs": [
        {
          "name": "stdout",
          "output_type": "stream",
          "text": [
            "Enter a number: 1\n",
            "Enter another number: 100\n",
            "1\n",
            "2\n",
            "3\n",
            "5\n",
            "7\n",
            "11\n",
            "13\n",
            "17\n",
            "19\n",
            "23\n",
            "29\n",
            "31\n",
            "37\n",
            "41\n",
            "43\n",
            "47\n",
            "53\n",
            "59\n",
            "61\n",
            "67\n",
            "71\n",
            "73\n",
            "79\n",
            "83\n",
            "89\n",
            "97\n"
          ]
        }
      ],
      "source": [
        "a=int(input('Enter a number: '))\n",
        "b=int(input('Enter another number: '))\n",
        "\n",
        "for i in range(a,b+1):\n",
        "  flag=0\n",
        "  for j in range(2,int(i/2)+1):\n",
        "    if i%j == 0:\n",
        "      flag+=1\n",
        "  if flag==0:\n",
        "    print(i)"
      ]
    },
    {
      "cell_type": "markdown",
      "metadata": {
        "id": "6xV71PWH2urf"
      },
      "source": [
        "3Question 10. Python program to check whether a number is Prime or not"
      ]
    },
    {
      "cell_type": "code",
      "execution_count": 12,
      "metadata": {
        "colab": {
          "base_uri": "https://localhost:8080/"
        },
        "id": "dTmSGBuQ2Xi_",
        "outputId": "de0af182-f4bc-479f-c8cb-704c2c842fc1"
      },
      "outputs": [
        {
          "name": "stdout",
          "output_type": "stream",
          "text": [
            "Enter a number :6\n"
          ]
        }
      ],
      "source": [
        "n = int(input('Enter a number :'))\n",
        "c=0\n",
        "for i in range(2,(int(n/2)+1)):\n",
        "  if n%i==0:\n",
        "    c+=1\n",
        "if c==0:\n",
        "  print('{} is a prime number'.format(n))"
      ]
    }
  ],
  "metadata": {
    "colab": {
      "collapsed_sections": [],
      "name": "Python_Assignment_1.ipynb",
      "provenance": []
    },
    "kernelspec": {
      "display_name": "Python 3",
      "name": "python3"
    },
    "language_info": {
      "name": "python"
    }
  },
  "nbformat": 4,
  "nbformat_minor": 0
}
