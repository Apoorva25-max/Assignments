{
  "nbformat": 4,
  "nbformat_minor": 0,
  "metadata": {
    "colab": {
      "name": "Python_Assignment_2.ipynb",
      "provenance": [],
      "collapsed_sections": []
    },
    "kernelspec": {
      "name": "python3",
      "display_name": "Python 3"
    },
    "language_info": {
      "name": "python"
    }
  },
  "cells": [
    {
      "cell_type": "markdown",
      "source": [
        "Question 1.\tPython Program for n-th Fibonacci number"
      ],
      "metadata": {
        "id": "uZ5UhFD_a4AD"
      }
    },
    {
      "cell_type": "code",
      "execution_count": 9,
      "metadata": {
        "colab": {
          "base_uri": "https://localhost:8080/"
        },
        "id": "0TO0P4DDZ4Rz",
        "outputId": "bf7b8caf-5af7-4ead-f9ca-cb002cf6e503"
      },
      "outputs": [
        {
          "output_type": "stream",
          "name": "stdout",
          "text": [
            "Enter a number :7\n",
            "0\n",
            "1\n",
            "1\n",
            "2\n",
            "3\n",
            "5\n",
            "8\n",
            "13\n"
          ]
        }
      ],
      "source": [
        "n =int(input('Enter a number :'))\n",
        "\n",
        "a=0\n",
        "b=1\n",
        "if n==1:\n",
        "  print(a)\n",
        "else:\n",
        "  print(a)\n",
        "  print(b)\n",
        "  for i in range(n-1):\n",
        "    c=a+b\n",
        "    a=b\n",
        "    b=c\n",
        "    print(c)"
      ]
    },
    {
      "cell_type": "markdown",
      "source": [
        "Question 2.\tPython Program for How to check if a given number is Fibonacci number?"
      ],
      "metadata": {
        "id": "F4AcnAOalvNd"
      }
    },
    {
      "cell_type": "code",
      "source": [
        "n =int(input('Enter a number :'))\n",
        "\n",
        "if (n == 0) or (n == 1):\n",
        "  print('{} is a Fibonacci number'.format(n)) \n",
        "else:\n",
        "  a=0\n",
        "  b=1\n",
        "  c=a+b\n",
        "  while c<n:\n",
        "    a=b\n",
        "    b=c\n",
        "    c=a+b\n",
        "  if c == n:\n",
        "    print('{} is a Fibonacci number'.format(n))\n",
        "  else:\n",
        "    print('{} is not a Fibonacci number'.format(n))"
      ],
      "metadata": {
        "colab": {
          "base_uri": "https://localhost:8080/"
        },
        "id": "abG7rozVb_O_",
        "outputId": "570853a0-1f09-4eb1-beff-3d0bbb5cb244"
      },
      "execution_count": 10,
      "outputs": [
        {
          "output_type": "stream",
          "name": "stdout",
          "text": [
            "Enter a number :6\n",
            "6 is not a Fibonacci number\n"
          ]
        }
      ]
    },
    {
      "cell_type": "markdown",
      "source": [
        "Question 3.\tPython Program for n\\’th multiple of a number in Fibonacci Series"
      ],
      "metadata": {
        "id": "mc64_3YInk02"
      }
    },
    {
      "cell_type": "code",
      "source": [
        "n =int(input('Enter a number :'))\n",
        "a=0\n",
        "b=1\n",
        "if n == 1:\n",
        "  print(a)\n",
        "elif n == 2:\n",
        "  print(b)\n",
        "else:\n",
        "  for i in range(3,(n+1)):\n",
        "    c=a+b\n",
        "    a=b\n",
        "    b=c\n",
        "  print(c)"
      ],
      "metadata": {
        "colab": {
          "base_uri": "https://localhost:8080/"
        },
        "id": "agY6CmMxnQ1h",
        "outputId": "6a052602-c2d9-4fe9-ad18-c6bf62c821cd"
      },
      "execution_count": 11,
      "outputs": [
        {
          "output_type": "stream",
          "name": "stdout",
          "text": [
            "Enter a number :9\n",
            "21\n"
          ]
        }
      ]
    },
    {
      "cell_type": "markdown",
      "source": [
        "Question 4.\tProgram to print ASCII Value of a character"
      ],
      "metadata": {
        "id": "f26XfowZsN_i"
      }
    },
    {
      "cell_type": "code",
      "source": [
        "ch = input('Enter a character :')\n",
        "print('The ASCII value of {} is {}'.format(ch, ord(ch)))"
      ],
      "metadata": {
        "colab": {
          "base_uri": "https://localhost:8080/"
        },
        "id": "Vn946gsbq28N",
        "outputId": "db621239-92ef-4dcd-f48f-f589052f17bc"
      },
      "execution_count": 12,
      "outputs": [
        {
          "output_type": "stream",
          "name": "stdout",
          "text": [
            "Enter a character :A\n",
            "The ASCII value of A is 65\n"
          ]
        }
      ]
    },
    {
      "cell_type": "markdown",
      "source": [
        "Question 5.\tPython Program for Sum of squares of first n natural numbers"
      ],
      "metadata": {
        "id": "hxsVcUaNssKE"
      }
    },
    {
      "cell_type": "code",
      "source": [
        "n = int(input('Enter a natural number :'))\n",
        "\n",
        "s=0\n",
        "for i in range(1, (n+1)):\n",
        "  s = s + i*i\n",
        "\n",
        "print('The sum of squares if first {} natural numbers is {}'.format(n,s))"
      ],
      "metadata": {
        "colab": {
          "base_uri": "https://localhost:8080/"
        },
        "id": "XXqth0oMsfQ4",
        "outputId": "5b0e13c6-800e-4fb3-c311-65ea8ddf1fd4"
      },
      "execution_count": 13,
      "outputs": [
        {
          "output_type": "stream",
          "name": "stdout",
          "text": [
            "Enter a natural number :5\n",
            "The sum of squares if first 5 natural numbers is 55\n"
          ]
        }
      ]
    },
    {
      "cell_type": "markdown",
      "source": [
        "Question 6.\tPython Program for cube sum of first n natural numbers"
      ],
      "metadata": {
        "id": "qRvv9Iv3uqVg"
      }
    },
    {
      "cell_type": "code",
      "source": [
        "n = int(input('Enter a natural number :'))\n",
        "\n",
        "s=0\n",
        "for i in range(1, (n+1)):\n",
        "  s = s + i**3\n",
        "\n",
        "print('The sum of squares if first {} natural numbers is {}'.format(n,s))"
      ],
      "metadata": {
        "colab": {
          "base_uri": "https://localhost:8080/"
        },
        "id": "ZxUnbcJVuQKi",
        "outputId": "cc949017-884c-40d0-a925-56fdffe395bb"
      },
      "execution_count": 14,
      "outputs": [
        {
          "output_type": "stream",
          "name": "stdout",
          "text": [
            "Enter a natural number :5\n",
            "The sum of squares if first 5 natural numbers is 225\n"
          ]
        }
      ]
    },
    {
      "cell_type": "markdown",
      "source": [
        "Question 7.\tPython Program to find sum of array"
      ],
      "metadata": {
        "id": "sk_MylCTvCBp"
      }
    },
    {
      "cell_type": "code",
      "source": [
        "a1 = list(map(int, input('Enter numbers :').split(' ')))\n",
        "print('Sum of all elements : {}'.format(sum(a1)))"
      ],
      "metadata": {
        "colab": {
          "base_uri": "https://localhost:8080/"
        },
        "id": "_b5v8cTHu4D6",
        "outputId": "62738f24-a800-4f92-cb01-5de65538a5d8"
      },
      "execution_count": 1,
      "outputs": [
        {
          "output_type": "stream",
          "name": "stdout",
          "text": [
            "Enter numbers :1 2 3 4 5\n",
            "Sum of all elements : 15\n"
          ]
        }
      ]
    },
    {
      "cell_type": "markdown",
      "source": [
        "Question 9.\tPython Program for array rotation"
      ],
      "metadata": {
        "id": "Ql15vXfX6C6z"
      }
    },
    {
      "cell_type": "code",
      "source": [
        "a1 = list(map(int, input('Enter numbers: ').split(' ')))\n",
        "print('Reverse:', end=' ')\n",
        "for i in range((len(a1)-1),-1,-1):\n",
        "  print(a1[i], end=' ')"
      ],
      "metadata": {
        "colab": {
          "base_uri": "https://localhost:8080/"
        },
        "id": "HbdZ6N661d08",
        "outputId": "fa7e6daf-0ad1-4a12-a8c1-33a9d6e18109"
      },
      "execution_count": 2,
      "outputs": [
        {
          "output_type": "stream",
          "name": "stdout",
          "text": [
            "Enter numbers: 4 6 8 12 14 16\n",
            "Reverse: 16 14 12 8 6 4 "
          ]
        }
      ]
    },
    {
      "cell_type": "markdown",
      "source": [
        "Question 10.\tPython Program for Reversal algorithm for array rotation"
      ],
      "metadata": {
        "id": "FRu2u9HT7vqe"
      }
    },
    {
      "cell_type": "code",
      "source": [
        "a1 = list(map(int, input('Enter numbers: ').split(' ')))\n",
        "d = int(input('Enter reversal number: '))\n",
        "\n",
        "p1 = a1[0:d]\n",
        "p2 = a1[d:]\n",
        "r1=[]\n",
        "r2=[]\n",
        "\n",
        "for i in range((len(p1)-1),-1,-1):\n",
        "  r1.append(p1[i])\n",
        "for j in range((len(p2)-1),-1,-1):\n",
        "  r2.append(p2[j])\n",
        "a2 = [*r2, *r1]\n",
        "print('Reverse: ',a2)"
      ],
      "metadata": {
        "colab": {
          "base_uri": "https://localhost:8080/"
        },
        "id": "d5RrO7ai6TcM",
        "outputId": "c5abbb19-f5df-4f03-fe3b-5c80c224d227"
      },
      "execution_count": 13,
      "outputs": [
        {
          "output_type": "stream",
          "name": "stdout",
          "text": [
            "Enter numbers: 2 4 6 8 1 3 5 7 9\n",
            "Enter reversal number: 4\n",
            "Reverse:  [9, 7, 5, 3, 1, 8, 6, 4, 2]\n"
          ]
        }
      ]
    },
    {
      "cell_type": "markdown",
      "source": [
        "Question 11.\tPython Program to Split the array and add the first part to the end"
      ],
      "metadata": {
        "id": "vPYC3luECChE"
      }
    },
    {
      "cell_type": "code",
      "source": [
        "a1 = list(map(int, input('Enter numbers: ').split(' ')))\n",
        "n = int(input('Enter split position: '))\n",
        "\n",
        "p1 = a1[0:n]\n",
        "p2 = a1[n:]\n",
        "\n",
        "new_a1 = [*p2, *p1]\n",
        "print(new_a1)"
      ],
      "metadata": {
        "colab": {
          "base_uri": "https://localhost:8080/"
        },
        "id": "JVGYWujkA-5w",
        "outputId": "2fc11fc5-016d-4164-9b98-ccb0a6c12ebf"
      },
      "execution_count": 18,
      "outputs": [
        {
          "output_type": "stream",
          "name": "stdout",
          "text": [
            "Enter numbers: 5 6 7 8 1 2\n",
            "Enter split position: 4\n",
            "[1, 2, 5, 6, 7, 8]\n"
          ]
        }
      ]
    }
  ]
}